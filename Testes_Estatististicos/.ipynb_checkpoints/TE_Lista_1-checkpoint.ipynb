{
 "cells": [
  {
   "cell_type": "markdown",
   "id": "13b06d7f-4aa7-42a4-9793-49b52ad48bf1",
   "metadata": {},
   "source": [
    "# exercício 4\n",
    "\n",
    "\n",
    "Uma empresa quer saber se a nota média da satisfação dos clientes após implementar um novo atendimento via chatbot é diferente de 8 (padrão antigo). A nota é de 0 a 10. Foram coletadas as notas de 12 clientes:\n",
    "[7.5, 8.1, 8.4, 7.8, 8.0, 8.3, 8.2, 7.9, 8.5, 8.6, 7.7, 8.1]\n"
   ]
  },
  {
   "cell_type": "code",
   "execution_count": 7,
   "id": "9f4b1f68-ae55-4975-9171-7984e21082a6",
   "metadata": {},
   "outputs": [],
   "source": [
    "#import bibliotecas\n",
    "import scipy.stats as stats\n",
    "import numpy as np"
   ]
  },
  {
   "cell_type": "code",
   "execution_count": 8,
   "id": "8606fdc9-43a6-4f73-ad93-4ce4c4ade901",
   "metadata": {},
   "outputs": [],
   "source": [
    "# Notas dos clientes após uso do chatbot\n",
    "notas = [7.5, 8.1, 8.4, 7.8, 8.0, 8.3, 8.2, 7.9, 8.5, 8.6, 7.7, 8.1]"
   ]
  },
  {
   "cell_type": "code",
   "execution_count": 3,
   "id": "8dd8e540-9629-4f46-9b43-0c47ebe08b3a",
   "metadata": {},
   "outputs": [],
   "source": [
    "# Média de referência do atendimento antigo\n",
    "media_antiga = 8"
   ]
  },
  {
   "cell_type": "code",
   "execution_count": 4,
   "id": "ab989f64-ad78-41e0-8274-05f915548fca",
   "metadata": {},
   "outputs": [],
   "source": [
    "# Teste t para uma amostra\n",
    "t_stat, p_valor = stats.ttest_1samp(notas, popmean=media_antiga)"
   ]
  },
  {
   "cell_type": "code",
   "execution_count": 5,
   "id": "89acb090-ca1f-4969-ae43-d8a222d182bb",
   "metadata": {},
   "outputs": [
    {
     "name": "stdout",
     "output_type": "stream",
     "text": [
      "📊 Estatísticas do teste t:\n",
      "- Estatística t: 0.9578\n",
      "- Valor-p: 0.3588\n"
     ]
    }
   ],
   "source": [
    "# Resultados\n",
    "print(\"📊 Estatísticas do teste t:\")\n",
    "print(f\"- Estatística t: {t_stat:.4f}\")\n",
    "print(f\"- Valor-p: {p_valor:.4f}\")"
   ]
  },
  {
   "cell_type": "code",
   "execution_count": 6,
   "id": "13113515-d80c-42ef-8a89-93c5716c1820",
   "metadata": {},
   "outputs": [
    {
     "name": "stdout",
     "output_type": "stream",
     "text": [
      "\n",
      "✅ Resultado: Não rejeitamos H₀ — não há evidência suficiente de que a média seja diferente de 8.\n"
     ]
    }
   ],
   "source": [
    "# Interpretação\n",
    "alpha = 0.05\n",
    "if p_valor < alpha:\n",
    "    print(f\"\\n🔎 Resultado: Rejeitamos H₀ — a média é estatisticamente diferente de {media_antiga}.\")\n",
    "else:\n",
    "    print(f\"\\n✅ Resultado: Não rejeitamos H₀ — não há evidência suficiente de que a média seja diferente de {media_antiga}.\")"
   ]
  },
  {
   "cell_type": "code",
   "execution_count": null,
   "id": "0c31a09c-c01c-4955-a99b-3ae9873ddfc7",
   "metadata": {},
   "outputs": [],
   "source": []
  },
  {
   "cell_type": "markdown",
   "id": "a68aa3a9-8783-42ae-972b-3cfaa477c561",
   "metadata": {},
   "source": [
    "# Exercício 5\n",
    "Uma startup quer saber se o novo modelo de precificação reduziu o tempo médio de negociação com clientes. Foram medidos os tempos (em minutos) antes e depois para os mesmos 8 vendedores:\n",
    "Antes: [45, 50, 48, 52, 47, 49, 51, 46]\n",
    "Depois: [39, 41, 42, 44, 40, 43, 42, 39]\n"
   ]
  },
  {
   "cell_type": "code",
   "execution_count": null,
   "id": "3b01de9a-02be-49ee-adf2-f56bba8278a0",
   "metadata": {},
   "outputs": [],
   "source": []
  },
  {
   "cell_type": "code",
   "execution_count": null,
   "id": "6bb3d855-4dd1-49d7-b11f-c49c5c7c6a39",
   "metadata": {},
   "outputs": [],
   "source": []
  },
  {
   "cell_type": "code",
   "execution_count": null,
   "id": "acde0882-7da7-4b76-be8c-2e237ac86f74",
   "metadata": {},
   "outputs": [],
   "source": []
  },
  {
   "cell_type": "code",
   "execution_count": null,
   "id": "83f7268f-3a67-4c6a-a020-8172cceb4cc9",
   "metadata": {},
   "outputs": [],
   "source": []
  },
  {
   "cell_type": "code",
   "execution_count": null,
   "id": "44ffda7a-af0d-4564-aa51-b9e1b2e181d1",
   "metadata": {},
   "outputs": [],
   "source": []
  },
  {
   "cell_type": "code",
   "execution_count": null,
   "id": "1cbd0419-41fb-4a44-a7df-fdd1cea1c1b1",
   "metadata": {},
   "outputs": [],
   "source": []
  },
  {
   "cell_type": "markdown",
   "id": "b8af61a0-4c1d-48b9-be51-3587baf33b97",
   "metadata": {},
   "source": [
    "# Exercício 6\n",
    "O artigo A Critical Appraisal of 98.6 Degrees F, the Upper Limit of the Normal Body Temperature, and Other Legacies of Carl Reinhold August Wunderlich?  questiona a noção de que a verdadeira temperatura corporal média é 98,6. Além disso há também alguma dúvida sobre se as temperaturas corporais medias para as mulheres são iguais aos dos homens (nível de significância de 0,01). \n",
    "Os dados são NormTemp.sas7bdat (e estão na pasta dados fornecida nos códigos) e o dicionário de dados:\n",
    "ID - Identificador do individuo\n",
    "BodyTemp - Temperatura corporal (graus Fahrenheit)\n",
    "Gender - Sexo do individuo\n",
    "HeartRate - Frequencia cardiaca (batimentos por minuto)\n"
   ]
  },
  {
   "cell_type": "code",
   "execution_count": null,
   "id": "46c11514-1818-4bda-8baf-237eee92a1b3",
   "metadata": {},
   "outputs": [],
   "source": []
  }
 ],
 "metadata": {
  "kernelspec": {
   "display_name": "Python 3 (ipykernel)",
   "language": "python",
   "name": "python3"
  },
  "language_info": {
   "codemirror_mode": {
    "name": "ipython",
    "version": 3
   },
   "file_extension": ".py",
   "mimetype": "text/x-python",
   "name": "python",
   "nbconvert_exporter": "python",
   "pygments_lexer": "ipython3",
   "version": "3.12.7"
  }
 },
 "nbformat": 4,
 "nbformat_minor": 5
}
