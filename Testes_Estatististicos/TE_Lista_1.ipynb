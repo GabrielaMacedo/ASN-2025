{
 "cells": [
  {
   "cell_type": "markdown",
   "id": "13b06d7f-4aa7-42a4-9793-49b52ad48bf1",
   "metadata": {},
   "source": [
    "# exercício 4\n",
    "\n",
    "\n",
    "Uma empresa quer saber se a nota média da satisfação dos clientes após implementar um novo atendimento via chatbot é diferente de 8 (padrão antigo). A nota é de 0 a 10. Foram coletadas as notas de 12 clientes:\n",
    "[7.5, 8.1, 8.4, 7.8, 8.0, 8.3, 8.2, 7.9, 8.5, 8.6, 7.7, 8.1]\n"
   ]
  },
  {
   "cell_type": "code",
   "execution_count": 7,
   "id": "9f4b1f68-ae55-4975-9171-7984e21082a6",
   "metadata": {},
   "outputs": [],
   "source": [
    "#import bibliotecas\n",
    "import scipy.stats as stats\n",
    "import numpy as np"
   ]
  },
  {
   "cell_type": "code",
   "execution_count": 8,
   "id": "8606fdc9-43a6-4f73-ad93-4ce4c4ade901",
   "metadata": {},
   "outputs": [],
   "source": [
    "# Notas dos clientes após uso do chatbot\n",
    "notas = [7.5, 8.1, 8.4, 7.8, 8.0, 8.3, 8.2, 7.9, 8.5, 8.6, 7.7, 8.1]"
   ]
  },
  {
   "cell_type": "code",
   "execution_count": 3,
   "id": "8dd8e540-9629-4f46-9b43-0c47ebe08b3a",
   "metadata": {},
   "outputs": [],
   "source": [
    "# Média de referência do atendimento antigo\n",
    "media_antiga = 8"
   ]
  },
  {
   "cell_type": "code",
   "execution_count": 4,
   "id": "ab989f64-ad78-41e0-8274-05f915548fca",
   "metadata": {},
   "outputs": [],
   "source": [
    "# Teste t para uma amostra\n",
    "t_stat, p_valor = stats.ttest_1samp(notas, popmean=media_antiga)"
   ]
  },
  {
   "cell_type": "code",
   "execution_count": 5,
   "id": "89acb090-ca1f-4969-ae43-d8a222d182bb",
   "metadata": {},
   "outputs": [
    {
     "name": "stdout",
     "output_type": "stream",
     "text": [
      "📊 Estatísticas do teste t:\n",
      "- Estatística t: 0.9578\n",
      "- Valor-p: 0.3588\n"
     ]
    }
   ],
   "source": [
    "# Resultados\n",
    "print(\"📊 Estatísticas do teste t:\")\n",
    "print(f\"- Estatística t: {t_stat:.4f}\")\n",
    "print(f\"- Valor-p: {p_valor:.4f}\")"
   ]
  },
  {
   "cell_type": "code",
   "execution_count": 6,
   "id": "13113515-d80c-42ef-8a89-93c5716c1820",
   "metadata": {},
   "outputs": [
    {
     "name": "stdout",
     "output_type": "stream",
     "text": [
      "\n",
      "✅ Resultado: Não rejeitamos H₀ — não há evidência suficiente de que a média seja diferente de 8.\n"
     ]
    }
   ],
   "source": [
    "# Interpretação\n",
    "alpha = 0.05\n",
    "if p_valor < alpha:\n",
    "    print(f\"\\n🔎 Resultado: Rejeitamos H₀ — a média é estatisticamente diferente de {media_antiga}.\")\n",
    "else:\n",
    "    print(f\"\\n✅ Resultado: Não rejeitamos H₀ — não há evidência suficiente de que a média seja diferente de {media_antiga}.\")"
   ]
  },
  {
   "cell_type": "code",
   "execution_count": null,
   "id": "0c31a09c-c01c-4955-a99b-3ae9873ddfc7",
   "metadata": {},
   "outputs": [],
   "source": []
  },
  {
   "cell_type": "markdown",
   "id": "a68aa3a9-8783-42ae-972b-3cfaa477c561",
   "metadata": {},
   "source": [
    "# Exercício 5\n",
    "Uma startup quer saber se o novo modelo de precificação reduziu o tempo médio de negociação com clientes. Foram medidos os tempos (em minutos) antes e depois para os mesmos 8 vendedores:\n",
    "Antes: [45, 50, 48, 52, 47, 49, 51, 46]\n",
    "Depois: [39, 41, 42, 44, 40, 43, 42, 39]\n"
   ]
  },
  {
   "cell_type": "code",
   "execution_count": 1,
   "id": "3b01de9a-02be-49ee-adf2-f56bba8278a0",
   "metadata": {},
   "outputs": [],
   "source": [
    "import scipy.stats as stats\n",
    "import numpy as np"
   ]
  },
  {
   "cell_type": "code",
   "execution_count": 2,
   "id": "6bb3d855-4dd1-49d7-b11f-c49c5c7c6a39",
   "metadata": {},
   "outputs": [],
   "source": [
    "# 1️⃣ Dados fornecidos\n",
    "antes = np.array([45, 50, 48, 52, 47, 49, 51, 46])\n",
    "depois = np.array([39, 41, 42, 44, 40, 43, 42, 39])"
   ]
  },
  {
   "cell_type": "code",
   "execution_count": 3,
   "id": "acde0882-7da7-4b76-be8c-2e237ac86f74",
   "metadata": {},
   "outputs": [
    {
     "name": "stdout",
     "output_type": "stream",
     "text": [
      "Diferenças entre pares: [6 9 6 8 7 6 9 7]\n"
     ]
    }
   ],
   "source": [
    "# 2️⃣ Subtração dos pares: antes - depois\n",
    "diferencas = antes - depois\n",
    "print(\"Diferenças entre pares:\", diferencas)"
   ]
  },
  {
   "cell_type": "code",
   "execution_count": 5,
   "id": "83f7268f-3a67-4c6a-a020-8172cceb4cc9",
   "metadata": {},
   "outputs": [
    {
     "name": "stdout",
     "output_type": "stream",
     "text": [
      "\n",
      "📌 Estatística t: 15.9986\n",
      "📌 Valor-p: 0.0000\n"
     ]
    }
   ],
   "source": [
    "# 4️⃣ Aplicar o teste t pareado (H0: média das diferenças = 0)\n",
    "t_stat, p_valor = stats.ttest_rel(antes, depois)\n",
    "\n",
    "print(f\"\\n📌 Estatística t: {t_stat:.4f}\")\n",
    "print(f\"📌 Valor-p: {p_valor:.4f}\")"
   ]
  },
  {
   "cell_type": "code",
   "execution_count": 7,
   "id": "44ffda7a-af0d-4564-aa51-b9e1b2e181d1",
   "metadata": {},
   "outputs": [
    {
     "name": "stdout",
     "output_type": "stream",
     "text": [
      "✅ Resultado: Rejeitamos H0. O novo modelo reduziu significativamente o tempo médio.\n"
     ]
    }
   ],
   "source": [
    "# 5️⃣ Interpretação (nível de significância alpha = 0.05)\n",
    "alpha = 0.05\n",
    "if p_valor < alpha:\n",
    "    print(\"✅ Resultado: Rejeitamos H0. O novo modelo reduziu significativamente o tempo médio.\")\n",
    "else:\n",
    "    print(\"❌ Resultado: Não rejeitamos H0. Não há evidência suficiente de redução no tempo.\")\n"
   ]
  },
  {
   "cell_type": "markdown",
   "id": "b8af61a0-4c1d-48b9-be51-3587baf33b97",
   "metadata": {},
   "source": [
    "# Exercício 6\n",
    "O artigo A Critical Appraisal of 98.6 Degrees F, the Upper Limit of the Normal Body Temperature, and Other Legacies of Carl Reinhold August Wunderlich?  questiona a noção de que a verdadeira temperatura corporal média é 98,6. Além disso há também alguma dúvida sobre se as temperaturas corporais medias para as mulheres são iguais aos dos homens (nível de significância de 0,01). \n",
    "Os dados são NormTemp.sas7bdat (e estão na pasta dados fornecida nos códigos) e o dicionário de dados:\n",
    "ID - Identificador do individuo\n",
    "BodyTemp - Temperatura corporal (graus Fahrenheit)\n",
    "Gender - Sexo do individuo\n",
    "HeartRate - Frequencia cardiaca (batimentos por minuto)\n"
   ]
  },
  {
   "cell_type": "code",
   "execution_count": 13,
   "id": "9574dfed-d233-4cdf-92ed-89eafb884e7e",
   "metadata": {},
   "outputs": [],
   "source": [
    "import pandas as pd\n",
    "import numpy as np\n",
    "from scipy import stats"
   ]
  },
  {
   "cell_type": "code",
   "execution_count": 15,
   "id": "a97c93d4-d7a8-4f95-b95f-c2fbe3964eff",
   "metadata": {},
   "outputs": [
    {
     "data": {
      "text/html": [
       "<div>\n",
       "<style scoped>\n",
       "    .dataframe tbody tr th:only-of-type {\n",
       "        vertical-align: middle;\n",
       "    }\n",
       "\n",
       "    .dataframe tbody tr th {\n",
       "        vertical-align: top;\n",
       "    }\n",
       "\n",
       "    .dataframe thead th {\n",
       "        text-align: right;\n",
       "    }\n",
       "</style>\n",
       "<table border=\"1\" class=\"dataframe\">\n",
       "  <thead>\n",
       "    <tr style=\"text-align: right;\">\n",
       "      <th></th>\n",
       "      <th>ID</th>\n",
       "      <th>BodyTemp</th>\n",
       "      <th>Gender</th>\n",
       "      <th>HeartRate</th>\n",
       "    </tr>\n",
       "  </thead>\n",
       "  <tbody>\n",
       "    <tr>\n",
       "      <th>0</th>\n",
       "      <td>1.0</td>\n",
       "      <td>96.3</td>\n",
       "      <td>Male</td>\n",
       "      <td>70.0</td>\n",
       "    </tr>\n",
       "    <tr>\n",
       "      <th>1</th>\n",
       "      <td>2.0</td>\n",
       "      <td>96.7</td>\n",
       "      <td>Male</td>\n",
       "      <td>71.0</td>\n",
       "    </tr>\n",
       "    <tr>\n",
       "      <th>2</th>\n",
       "      <td>3.0</td>\n",
       "      <td>96.9</td>\n",
       "      <td>Male</td>\n",
       "      <td>74.0</td>\n",
       "    </tr>\n",
       "    <tr>\n",
       "      <th>3</th>\n",
       "      <td>4.0</td>\n",
       "      <td>97.0</td>\n",
       "      <td>Male</td>\n",
       "      <td>80.0</td>\n",
       "    </tr>\n",
       "    <tr>\n",
       "      <th>4</th>\n",
       "      <td>5.0</td>\n",
       "      <td>97.1</td>\n",
       "      <td>Male</td>\n",
       "      <td>73.0</td>\n",
       "    </tr>\n",
       "  </tbody>\n",
       "</table>\n",
       "</div>"
      ],
      "text/plain": [
       "    ID  BodyTemp Gender  HeartRate\n",
       "0  1.0      96.3   Male       70.0\n",
       "1  2.0      96.7   Male       71.0\n",
       "2  3.0      96.9   Male       74.0\n",
       "3  4.0      97.0   Male       80.0\n",
       "4  5.0      97.1   Male       73.0"
      ]
     },
     "execution_count": 15,
     "metadata": {},
     "output_type": "execute_result"
    }
   ],
   "source": [
    "# 📥 1. Carregar os dados SAS\n",
    "df = pd.read_sas(\"normtemp.sas7bdat\", format=\"sas7bdat\", encoding=\"utf-8\")\n",
    "df.head()"
   ]
  },
  {
   "cell_type": "code",
   "execution_count": 16,
   "id": "f9dde8c1-06a2-4f64-be62-406a370b0e32",
   "metadata": {},
   "outputs": [],
   "source": [
    "# 🧪 2. Teste 1: Temperatura média geral ≠ 98.6°F\n",
    "media_observada = df[\"BodyTemp\"].mean()\n",
    "t_stat_geral, p_val_geral = stats.ttest_1samp(df[\"BodyTemp\"], popmean=98.6)"
   ]
  },
  {
   "cell_type": "code",
   "execution_count": 17,
   "id": "9996e5d3-3ce9-47b7-a033-8e46b9dbca3e",
   "metadata": {},
   "outputs": [],
   "source": [
    "# 📊 3. Teste 2: Diferença entre temperaturas médias de homens e mulheres\n",
    "# Separar por gênero\n",
    "homens = df[df[\"Gender\"] == \"Male\"][\"BodyTemp\"]\n",
    "mulheres = df[df[\"Gender\"] == \"Female\"][\"BodyTemp\"]"
   ]
  },
  {
   "cell_type": "code",
   "execution_count": 18,
   "id": "23eb02cc-7220-42e0-8f2b-58d520071d0b",
   "metadata": {},
   "outputs": [],
   "source": [
    "# Aplicar teste t (Welch, sem assumir variância igual)\n",
    "t_stat_genero, p_val_genero = stats.ttest_ind(mulheres, homens, equal_var=False)"
   ]
  },
  {
   "cell_type": "code",
   "execution_count": 19,
   "id": "5877e4fd-d5e0-43b0-9b72-77cd6a19a6a4",
   "metadata": {},
   "outputs": [],
   "source": [
    "# 📋 4. Criar tabela resumo\n",
    "resumo = pd.DataFrame({\n",
    "    \"Hipótese\": [\n",
    "        \"Temperatura média = 98.6°F\",\n",
    "        \"Diferença de temperatura entre sexos\"\n",
    "    ],\n",
    "    \"Resultado\": [\n",
    "        f\"t = {t_stat_geral:.2f}\",\n",
    "        f\"t = {t_stat_genero:.2f}\"\n",
    "    ],\n",
    "    \"Valor-p\": [\n",
    "        \"< 0.00001\" if p_val_geral < 0.00001 else f\"{p_val_geral:.4f}\",\n",
    "        f\"{p_val_genero:.4f}\"\n",
    "    ],\n",
    "    \"Conclusão (@ 1%)\": [\n",
    "        \"❌ Rejeita H₀ (média ≠ 98.6)\" if p_val_geral < 0.01 else \"✅ Não rejeita H₀\",\n",
    "        \"❌ Rejeita H₀ (médias diferentes)\" if p_val_genero < 0.01 else \"✅ Não rejeita H₀ (sem diferença significativa a 1%)\"\n",
    "    ]\n",
    "})"
   ]
  },
  {
   "cell_type": "code",
   "execution_count": 20,
   "id": "5db47c54-d1c8-4606-bbd8-30cfd71d8cb3",
   "metadata": {},
   "outputs": [
    {
     "data": {
      "text/html": [
       "<div>\n",
       "<style scoped>\n",
       "    .dataframe tbody tr th:only-of-type {\n",
       "        vertical-align: middle;\n",
       "    }\n",
       "\n",
       "    .dataframe tbody tr th {\n",
       "        vertical-align: top;\n",
       "    }\n",
       "\n",
       "    .dataframe thead th {\n",
       "        text-align: right;\n",
       "    }\n",
       "</style>\n",
       "<table border=\"1\" class=\"dataframe\">\n",
       "  <thead>\n",
       "    <tr style=\"text-align: right;\">\n",
       "      <th></th>\n",
       "      <th>Hipótese</th>\n",
       "      <th>Resultado</th>\n",
       "      <th>Valor-p</th>\n",
       "      <th>Conclusão (@ 1%)</th>\n",
       "    </tr>\n",
       "  </thead>\n",
       "  <tbody>\n",
       "    <tr>\n",
       "      <th>0</th>\n",
       "      <td>Temperatura média = 98.6°F</td>\n",
       "      <td>t = -5.45</td>\n",
       "      <td>&lt; 0.00001</td>\n",
       "      <td>❌ Rejeita H₀ (média ≠ 98.6)</td>\n",
       "    </tr>\n",
       "    <tr>\n",
       "      <th>1</th>\n",
       "      <td>Diferença de temperatura entre sexos</td>\n",
       "      <td>t = 2.29</td>\n",
       "      <td>0.0239</td>\n",
       "      <td>✅ Não rejeita H₀ (sem diferença significativa ...</td>\n",
       "    </tr>\n",
       "  </tbody>\n",
       "</table>\n",
       "</div>"
      ],
      "text/plain": [
       "                               Hipótese  Resultado    Valor-p  \\\n",
       "0            Temperatura média = 98.6°F  t = -5.45  < 0.00001   \n",
       "1  Diferença de temperatura entre sexos   t = 2.29     0.0239   \n",
       "\n",
       "                                    Conclusão (@ 1%)  \n",
       "0                        ❌ Rejeita H₀ (média ≠ 98.6)  \n",
       "1  ✅ Não rejeita H₀ (sem diferença significativa ...  "
      ]
     },
     "execution_count": 20,
     "metadata": {},
     "output_type": "execute_result"
    }
   ],
   "source": [
    "resumo"
   ]
  },
  {
   "cell_type": "code",
   "execution_count": null,
   "id": "4a9dc2b0-b1fd-45c2-b8ea-cfbaa81456bd",
   "metadata": {},
   "outputs": [],
   "source": []
  }
 ],
 "metadata": {
  "kernelspec": {
   "display_name": "Python 3 (ipykernel)",
   "language": "python",
   "name": "python3"
  },
  "language_info": {
   "codemirror_mode": {
    "name": "ipython",
    "version": 3
   },
   "file_extension": ".py",
   "mimetype": "text/x-python",
   "name": "python",
   "nbconvert_exporter": "python",
   "pygments_lexer": "ipython3",
   "version": "3.12.7"
  }
 },
 "nbformat": 4,
 "nbformat_minor": 5
}
